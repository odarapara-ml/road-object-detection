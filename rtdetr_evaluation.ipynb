{
 "cells": [
  {
   "cell_type": "code",
   "execution_count": 3,
   "id": "f7544483-8338-4735-be47-5e4c29bf21ab",
   "metadata": {},
   "outputs": [
    {
     "name": "stderr",
     "output_type": "stream",
     "text": [
      "100%|████████████████████████████████████████████████████████████████████████████| 10000/10000 [40:36<00:00,  4.10it/s]\n"
     ]
    },
    {
     "name": "stdout",
     "output_type": "stream",
     "text": [
      "Предсказания сохранены в: C:\\Users\\odara\\Downloads\\data\\rtdetr_labels\\predictions_val.json\n"
     ]
    }
   ],
   "source": [
    "from transformers import RTDetrImageProcessor, RTDetrForObjectDetection\n",
    "from PIL import Image\n",
    "import torch\n",
    "import os\n",
    "import json\n",
    "from tqdm import tqdm\n",
    "\n",
    "# Пути\n",
    "checkpoint_path = r\"C:\\Users\\odara\\Downloads\\data\\rtdetr_fine_tuning\\checkpoint-210000\"\n",
    "val_images_dir = r\"C:\\Users\\odara\\Downloads\\data\\val\\images\"\n",
    "output_predictions_file = r\"C:\\Users\\odara\\Downloads\\data\\rtdetr_labels\\predictions_val.json\"\n",
    "\n",
    "# Загрузка модели и процессора\n",
    "model = RTDetrForObjectDetection.from_pretrained(checkpoint_path)\n",
    "processor = RTDetrImageProcessor.from_pretrained(\n",
    "    \"PekingU/rtdetr_r101vd_coco_o365\",\n",
    "    size={\"height\": 512, \"width\": 512}\n",
    ")\n",
    "\n",
    "model.eval()\n",
    "model.to(\"cuda\")\n",
    "\n",
    "# Предсказания\n",
    "results = []\n",
    "image_filenames = sorted([\n",
    "    f for f in os.listdir(val_images_dir) if f.lower().endswith((\".jpg\", \".png\"))\n",
    "])\n",
    "\n",
    "# Сопоставление image_id с именами файлов\n",
    "image_id_map = {i: fname for i, fname in enumerate(image_filenames)}\n",
    "filename_to_image_id = {v: k for k, v in image_id_map.items()}\n",
    "\n",
    "for img_file in tqdm(image_filenames):\n",
    "    image_path = os.path.join(val_images_dir, img_file)\n",
    "    image = Image.open(image_path).convert(\"RGB\")\n",
    "    \n",
    "    inputs = processor(images=image, return_tensors=\"pt\").to(\"cuda\")\n",
    "    with torch.no_grad():\n",
    "        outputs = model(**inputs)\n",
    "\n",
    "    # Постобработка\n",
    "    target_sizes = torch.tensor([image.size[::-1]])  # (H, W)\n",
    "    results_post = processor.post_process_object_detection(\n",
    "        outputs, target_sizes=target_sizes, threshold=0.001\n",
    "    )[0]\n",
    "\n",
    "    image_id = filename_to_image_id[img_file]\n",
    "\n",
    "    for score, label, box in zip(results_post[\"scores\"], results_post[\"labels\"], results_post[\"boxes\"]):\n",
    "        x_min, y_min, x_max, y_max = box\n",
    "        results.append({\n",
    "            \"image_id\": image_id,\n",
    "            \"category_id\": int(label),\n",
    "            \"bbox\": [\n",
    "                round(float(x_min), 2),\n",
    "                round(float(y_min), 2),\n",
    "                round(float(x_max - x_min), 2),\n",
    "                round(float(y_max - y_min), 2)\n",
    "            ],\n",
    "            \"score\": round(float(score), 5)\n",
    "        })\n",
    "\n",
    "# Сохраняем в COCO формате\n",
    "with open(output_predictions_file, \"w\") as f:\n",
    "    json.dump(results, f)\n",
    "\n",
    "print(f\"Предсказания сохранены в: {output_predictions_file}\")"
   ]
  },
  {
   "cell_type": "code",
   "execution_count": 4,
   "id": "2fd5fa2c-5a56-48e3-a90e-288e150465eb",
   "metadata": {},
   "outputs": [
    {
     "name": "stdout",
     "output_type": "stream",
     "text": [
      "loading annotations into memory...\n",
      "Done (t=0.34s)\n",
      "creating index...\n",
      "index created!\n",
      "Loading and preparing results...\n",
      "DONE (t=4.01s)\n",
      "creating index...\n",
      "index created!\n",
      "Running per image evaluation...\n",
      "Evaluate annotation type *bbox*\n",
      "DONE (t=94.44s).\n",
      "Accumulating evaluation results...\n",
      "DONE (t=18.76s).\n",
      " Average Precision  (AP) @[ IoU=0.50:0.95 | area=   all | maxDets=100 ] = 0.307\n",
      " Average Precision  (AP) @[ IoU=0.50      | area=   all | maxDets=100 ] = 0.537\n",
      " Average Precision  (AP) @[ IoU=0.75      | area=   all | maxDets=100 ] = 0.291\n",
      " Average Precision  (AP) @[ IoU=0.50:0.95 | area= small | maxDets=100 ] = 0.096\n",
      " Average Precision  (AP) @[ IoU=0.50:0.95 | area=medium | maxDets=100 ] = 0.365\n",
      " Average Precision  (AP) @[ IoU=0.50:0.95 | area= large | maxDets=100 ] = 0.634\n",
      " Average Recall     (AR) @[ IoU=0.50:0.95 | area=   all | maxDets=  1 ] = 0.217\n",
      " Average Recall     (AR) @[ IoU=0.50:0.95 | area=   all | maxDets= 10 ] = 0.410\n",
      " Average Recall     (AR) @[ IoU=0.50:0.95 | area=   all | maxDets=100 ] = 0.454\n",
      " Average Recall     (AR) @[ IoU=0.50:0.95 | area= small | maxDets=100 ] = 0.252\n",
      " Average Recall     (AR) @[ IoU=0.50:0.95 | area=medium | maxDets=100 ] = 0.542\n",
      " Average Recall     (AR) @[ IoU=0.50:0.95 | area= large | maxDets=100 ] = 0.758\n"
     ]
    }
   ],
   "source": [
    "from pycocotools.coco import COCO\n",
    "from pycocotools.cocoeval import COCOeval\n",
    "import json\n",
    "\n",
    "# Пути к аннотациям и предсказаниям\n",
    "gt_path = r\"C:\\Users\\odara\\Downloads\\data\\rtdetr_labels\\instances_val.json\"\n",
    "pred_path = r\"C:\\Users\\odara\\Downloads\\data\\rtdetr_labels\\predictions_val.json\"\n",
    "\n",
    "# Загрузка ground truth\n",
    "coco_gt = COCO(gt_path)\n",
    "\n",
    "# Загрузка предсказаний\n",
    "with open(pred_path, \"r\") as f:\n",
    "    predictions = json.load(f)\n",
    "\n",
    "# Загрузка предсказаний в COCO формат\n",
    "coco_dt = coco_gt.loadRes(predictions)\n",
    "\n",
    "# Инициализация COCOeval\n",
    "coco_eval = COCOeval(coco_gt, coco_dt, iouType='bbox')\n",
    "coco_eval.evaluate()\n",
    "coco_eval.accumulate()\n",
    "coco_eval.summarize()"
   ]
  },
  {
   "cell_type": "code",
   "execution_count": 5,
   "id": "72354c01-8dfb-4b2f-ac68-308d96809c41",
   "metadata": {},
   "outputs": [
    {
     "name": "stdout",
     "output_type": "stream",
     "text": [
      "Class 0: AP = 0.4386\n",
      "Class 1: AP = 0.2796\n",
      "Class 2: AP = 0.1747\n",
      "Class 3: AP = 0.2609\n",
      "Class 4: AP = 0.4174\n",
      "Class 5: AP = 0.4409\n",
      "Class 6: AP = 0.2201\n",
      "Class 7: AP = 0.2203\n"
     ]
    }
   ],
   "source": [
    "# К примеру, precision по каждому классу\n",
    "precisions = coco_eval.eval['precision']  # [T, R, K, A, M]\n",
    "# T: IoU thresholds, R: recall thresholds, K: num classes\n",
    "\n",
    "num_classes = len(coco_gt.getCatIds())\n",
    "for i in range(num_classes):\n",
    "    ap = precisions[:, :, i, 0, -1]  # all IoU thresholds, all recall, class i, area all, maxDets=100\n",
    "    ap = ap[ap > -1]\n",
    "    mean_ap = ap.mean() if len(ap) else float('nan')\n",
    "    print(f\"Class {i}: AP = {mean_ap:.4f}\")"
   ]
  },
  {
   "cell_type": "code",
   "execution_count": null,
   "id": "4bc828a5-2528-4ac8-8cf0-c4ec114dcd75",
   "metadata": {},
   "outputs": [],
   "source": []
  },
  {
   "cell_type": "code",
   "execution_count": 1,
   "id": "1cc180be-4a58-4c8f-ae2d-1fc620b528bc",
   "metadata": {},
   "outputs": [
    {
     "name": "stderr",
     "output_type": "stream",
     "text": [
      "100%|████████████████████████████████████████████████████████████████████████████| 10000/10000 [38:30<00:00,  4.33it/s]\n"
     ]
    },
    {
     "name": "stdout",
     "output_type": "stream",
     "text": [
      "Предсказания сохранены в: C:\\Users\\odara\\Downloads\\data\\rtdetr_labels\\predictions_val.json\n"
     ]
    }
   ],
   "source": [
    "from transformers import RTDetrImageProcessor, RTDetrForObjectDetection\n",
    "from PIL import Image\n",
    "import torch\n",
    "import os\n",
    "import json\n",
    "from tqdm import tqdm\n",
    "\n",
    "# Пути\n",
    "# checkpoint_path = r\"C:\\Users\\odara\\Downloads\\data\\rtdetr_fine_tuning\\checkpoint-210000\"\n",
    "checkpoint_path = r\"C:\\Users\\odara\\Downloads\\data\\rtdetr_fine_tuning\\final_model\"\n",
    "val_images_dir = r\"C:\\Users\\odara\\Downloads\\data\\val\\images\"\n",
    "output_predictions_file = r\"C:\\Users\\odara\\Downloads\\data\\rtdetr_labels\\predictions_val.json\"\n",
    "\n",
    "# Загрузка модели и процессора\n",
    "model = RTDetrForObjectDetection.from_pretrained(checkpoint_path)\n",
    "processor = RTDetrImageProcessor.from_pretrained(\n",
    "    \"PekingU/rtdetr_r101vd_coco_o365\",\n",
    "    size={\"height\": 512, \"width\": 512}\n",
    ")\n",
    "\n",
    "model.eval()\n",
    "model.to(\"cuda\")\n",
    "\n",
    "# Предсказания\n",
    "results = []\n",
    "image_filenames = sorted([\n",
    "    f for f in os.listdir(val_images_dir) if f.lower().endswith((\".jpg\", \".png\"))\n",
    "])\n",
    "\n",
    "# Сопоставление image_id с именами файлов\n",
    "image_id_map = {i: fname for i, fname in enumerate(image_filenames)}\n",
    "filename_to_image_id = {v: k for k, v in image_id_map.items()}\n",
    "\n",
    "for img_file in tqdm(image_filenames):\n",
    "    image_path = os.path.join(val_images_dir, img_file)\n",
    "    image = Image.open(image_path).convert(\"RGB\")\n",
    "    \n",
    "    inputs = processor(images=image, return_tensors=\"pt\").to(\"cuda\")\n",
    "    with torch.no_grad():\n",
    "        outputs = model(**inputs)\n",
    "\n",
    "    # Постобработка\n",
    "    target_sizes = torch.tensor([image.size[::-1]])  # (H, W)\n",
    "    results_post = processor.post_process_object_detection(\n",
    "        outputs, target_sizes=target_sizes, threshold=0.001\n",
    "    )[0]\n",
    "\n",
    "    image_id = filename_to_image_id[img_file]\n",
    "\n",
    "    for score, label, box in zip(results_post[\"scores\"], results_post[\"labels\"], results_post[\"boxes\"]):\n",
    "        x_min, y_min, x_max, y_max = box\n",
    "        results.append({\n",
    "            \"image_id\": image_id,\n",
    "            \"category_id\": int(label),\n",
    "            \"bbox\": [\n",
    "                round(float(x_min), 2),\n",
    "                round(float(y_min), 2),\n",
    "                round(float(x_max - x_min), 2),\n",
    "                round(float(y_max - y_min), 2)\n",
    "            ],\n",
    "            \"score\": round(float(score), 5)\n",
    "        })\n",
    "\n",
    "# Сохраняем в COCO формате\n",
    "with open(output_predictions_file, \"w\") as f:\n",
    "    json.dump(results, f)\n",
    "\n",
    "print(f\"Предсказания сохранены в: {output_predictions_file}\")"
   ]
  },
  {
   "cell_type": "code",
   "execution_count": 2,
   "id": "825f059b-225d-42af-a789-fb8143fe8f2b",
   "metadata": {},
   "outputs": [
    {
     "name": "stdout",
     "output_type": "stream",
     "text": [
      "loading annotations into memory...\n",
      "Done (t=0.35s)\n",
      "creating index...\n",
      "index created!\n",
      "Loading and preparing results...\n",
      "DONE (t=4.10s)\n",
      "creating index...\n",
      "index created!\n",
      "Running per image evaluation...\n",
      "Evaluate annotation type *bbox*\n",
      "DONE (t=93.83s).\n",
      "Accumulating evaluation results...\n",
      "DONE (t=19.27s).\n",
      " Average Precision  (AP) @[ IoU=0.50:0.95 | area=   all | maxDets=100 ] = 0.307\n",
      " Average Precision  (AP) @[ IoU=0.50      | area=   all | maxDets=100 ] = 0.537\n",
      " Average Precision  (AP) @[ IoU=0.75      | area=   all | maxDets=100 ] = 0.291\n",
      " Average Precision  (AP) @[ IoU=0.50:0.95 | area= small | maxDets=100 ] = 0.096\n",
      " Average Precision  (AP) @[ IoU=0.50:0.95 | area=medium | maxDets=100 ] = 0.365\n",
      " Average Precision  (AP) @[ IoU=0.50:0.95 | area= large | maxDets=100 ] = 0.634\n",
      " Average Recall     (AR) @[ IoU=0.50:0.95 | area=   all | maxDets=  1 ] = 0.217\n",
      " Average Recall     (AR) @[ IoU=0.50:0.95 | area=   all | maxDets= 10 ] = 0.410\n",
      " Average Recall     (AR) @[ IoU=0.50:0.95 | area=   all | maxDets=100 ] = 0.454\n",
      " Average Recall     (AR) @[ IoU=0.50:0.95 | area= small | maxDets=100 ] = 0.252\n",
      " Average Recall     (AR) @[ IoU=0.50:0.95 | area=medium | maxDets=100 ] = 0.542\n",
      " Average Recall     (AR) @[ IoU=0.50:0.95 | area= large | maxDets=100 ] = 0.758\n"
     ]
    }
   ],
   "source": [
    "from pycocotools.coco import COCO\n",
    "from pycocotools.cocoeval import COCOeval\n",
    "import json\n",
    "\n",
    "# Пути к аннотациям и предсказаниям\n",
    "gt_path = r\"C:\\Users\\odara\\Downloads\\data\\rtdetr_labels\\instances_val.json\"\n",
    "pred_path = r\"C:\\Users\\odara\\Downloads\\data\\rtdetr_labels\\predictions_val.json\"\n",
    "\n",
    "# Загрузка ground truth\n",
    "coco_gt = COCO(gt_path)\n",
    "\n",
    "# Загрузка предсказаний\n",
    "with open(pred_path, \"r\") as f:\n",
    "    predictions = json.load(f)\n",
    "\n",
    "# Загрузка предсказаний в COCO формат\n",
    "coco_dt = coco_gt.loadRes(predictions)\n",
    "\n",
    "# Инициализация COCOeval\n",
    "coco_eval = COCOeval(coco_gt, coco_dt, iouType='bbox')\n",
    "coco_eval.evaluate()\n",
    "coco_eval.accumulate()\n",
    "coco_eval.summarize()"
   ]
  },
  {
   "cell_type": "code",
   "execution_count": 6,
   "id": "a88ab7c2-5329-43c9-afbd-d624c1b7c16d",
   "metadata": {},
   "outputs": [
    {
     "name": "stdout",
     "output_type": "stream",
     "text": [
      "car            : AP@[IoU=0.50:0.95] = 0.4386\n",
      "traffic sign   : AP@[IoU=0.50:0.95] = 0.2796\n",
      "traffic light  : AP@[IoU=0.50:0.95] = 0.1747\n",
      "person         : AP@[IoU=0.50:0.95] = 0.2609\n",
      "truck          : AP@[IoU=0.50:0.95] = 0.4174\n",
      "bus            : AP@[IoU=0.50:0.95] = 0.4409\n",
      "two_wheeler    : AP@[IoU=0.50:0.95] = 0.2201\n",
      "rider          : AP@[IoU=0.50:0.95] = 0.2203\n"
     ]
    }
   ],
   "source": [
    "# К примеру, precision по каждому классу\n",
    "precisions = coco_eval.eval['precision']  # [T, R, K, A, M]\n",
    "\n",
    "# Названия классов в нужном порядке\n",
    "class_names = [\n",
    "    \"car\",\n",
    "    \"traffic sign\",\n",
    "    \"traffic light\",\n",
    "    \"person\",\n",
    "    \"truck\",\n",
    "    \"bus\",\n",
    "    \"two_wheeler\",\n",
    "    \"rider\"\n",
    "]\n",
    "\n",
    "for i, class_name in enumerate(class_names):\n",
    "    ap = precisions[:, :, i, 0, -1]  # all IoU thresholds, all recall, class i, area=all, maxDets=100\n",
    "    ap = ap[ap > -1]\n",
    "    mean_ap = ap.mean() if len(ap) else float('nan')\n",
    "    print(f\"{class_name:15s}: AP@[IoU=0.50:0.95] = {mean_ap:.4f}\")"
   ]
  },
  {
   "cell_type": "markdown",
   "id": "2ac981c1-c9e9-4710-bf24-391e50334f84",
   "metadata": {},
   "source": [
    "без учёта класса rider метрика немного выше: 0.3189, вместо 0.3191 с ним"
   ]
  },
  {
   "cell_type": "code",
   "execution_count": 5,
   "id": "89b7e5bd-43f4-44dc-a2ad-735be7a0ffbc",
   "metadata": {},
   "outputs": [
    {
     "name": "stdout",
     "output_type": "stream",
     "text": [
      "car            : AP@0.50 = 0.7343\n",
      "traffic sign   : AP@0.50 = 0.5456\n",
      "traffic light  : AP@0.50 = 0.4909\n",
      "person         : AP@0.50 = 0.5133\n",
      "truck          : AP@0.50 = 0.5750\n",
      "bus            : AP@0.50 = 0.5712\n",
      "two_wheeler    : AP@0.50 = 0.4467\n",
      "rider          : AP@0.50 = 0.4220\n"
     ]
    }
   ],
   "source": [
    "# Названия классов в нужном порядке\n",
    "class_names = [\n",
    "    \"car\",\n",
    "    \"traffic sign\",\n",
    "    \"traffic light\",\n",
    "    \"person\",\n",
    "    \"truck\",\n",
    "    \"bus\",\n",
    "    \"two_wheeler\",\n",
    "    \"rider\"\n",
    "]\n",
    "\n",
    "precisions = coco_eval.eval['precision']  # [T, R, K, A, M]\n",
    "iou_thresholds = coco_eval.params.iouThrs  # список из 10 IoU-порогов\n",
    "\n",
    "# Индекс порога IoU = 0.50\n",
    "iou_50_index = list(iou_thresholds).index(0.5)\n",
    "\n",
    "num_classes = len(class_names)\n",
    "\n",
    "for i in range(num_classes):\n",
    "    ap = precisions[iou_50_index, :, i, 0, 2]  # IoU=0.50, all recall, class i, area=all, maxDets=100\n",
    "    ap = ap[ap > -1]\n",
    "    mean_ap = ap.mean() if len(ap) else float('nan')\n",
    "    print(f\"{class_names[i]:<15}: AP@0.50 = {mean_ap:.4f}\")"
   ]
  },
  {
   "cell_type": "markdown",
   "id": "e540cd99-aa4d-496f-809c-4a7d30be3bb8",
   "metadata": {},
   "source": [
    "без класса rider метрика немного выше — 0.5539, вместо 0.5374"
   ]
  },
  {
   "cell_type": "code",
   "execution_count": 7,
   "id": "f7893598-d79b-4f30-96f6-c5b82ce89a9e",
   "metadata": {},
   "outputs": [
    {
     "name": "stdout",
     "output_type": "stream",
     "text": [
      "Размер модели: 293.09 МБ\n"
     ]
    }
   ],
   "source": [
    "import os\n",
    "\n",
    "file_path = r\"C:\\Users\\odara\\Downloads\\data\\rtdetr_fine_tuning\\final_model\\model.safetensors\"\n",
    "size_mb = os.path.getsize(file_path) / (1024 * 1024)\n",
    "print(f\"Размер модели: {size_mb:.2f} МБ\")"
   ]
  },
  {
   "cell_type": "code",
   "execution_count": null,
   "id": "b689e932-8dab-44cc-b622-326213fcd6b3",
   "metadata": {},
   "outputs": [],
   "source": []
  }
 ],
 "metadata": {
  "kernelspec": {
   "display_name": "Python 3 (ipykernel)",
   "language": "python",
   "name": "python3"
  },
  "language_info": {
   "codemirror_mode": {
    "name": "ipython",
    "version": 3
   },
   "file_extension": ".py",
   "mimetype": "text/x-python",
   "name": "python",
   "nbconvert_exporter": "python",
   "pygments_lexer": "ipython3",
   "version": "3.10.0"
  }
 },
 "nbformat": 4,
 "nbformat_minor": 5
}
